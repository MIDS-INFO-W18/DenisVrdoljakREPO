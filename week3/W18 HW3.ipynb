{
 "cells": [
  {
   "cell_type": "markdown",
   "metadata": {},
   "source": [
    "# Homework 3 - Summer Session\n",
    "\n",
    "* Assignment due date: Midnight the night before the Week 4 Live Session."
   ]
  },
  {
   "cell_type": "markdown",
   "metadata": {},
   "source": [
    "# 1 - For Loops\n",
    "\n",
    "1. Write a script that prompts the user for two words.  Print all the letters that are common to both words, in alphabetical order.\n",
    "```\n",
    "Enter one word: Home\n",
    "Enter another word: meter\n",
    "Letters in common: em\n",
    "```"
   ]
  },
  {
   "cell_type": "code",
   "execution_count": 1,
   "metadata": {
    "collapsed": false
   },
   "outputs": [
    {
     "name": "stdout",
     "output_type": "stream",
     "text": [
      "Enter your name: Denis\n",
      "Enter another word: unicorns\n",
      "n i s\n"
     ]
    }
   ],
   "source": [
    "# Enter your code here\n",
    "#Sample Output below"
   ]
  },
  {
   "cell_type": "markdown",
   "metadata": {},
   "source": [
    "# 2 - Comprehensions\n",
    "\n",
    "**2-1:** Use a comprehension to make a list of the square numbers below 100 that give a remainder of 1 when divided by 3."
   ]
  },
  {
   "cell_type": "code",
   "execution_count": 4,
   "metadata": {
    "collapsed": false
   },
   "outputs": [
    {
     "name": "stdout",
     "output_type": "stream",
     "text": [
      "[1, 4, 16, 25, 49, 64]\n"
     ]
    }
   ],
   "source": [
    "# Enter your code here\n",
    "#Sample Output below"
   ]
  },
  {
   "cell_type": "markdown",
   "metadata": {},
   "source": [
    "**2-2:** A string is defined in the code snippet below. Split it into individual words and use a comprehension to make a list of the first letters of each word in the snippet."
   ]
  },
  {
   "cell_type": "code",
   "execution_count": 3,
   "metadata": {
    "collapsed": false
   },
   "outputs": [
    {
     "name": "stdout",
     "output_type": "stream",
     "text": [
      "['O', 't', 't', 'e', 'R']\n"
     ]
    }
   ],
   "source": [
    "text = \"On the train, entering Roundrock\"\n",
    "# Enter your code here\n",
    "#Sample Output below"
   ]
  },
  {
   "cell_type": "markdown",
   "metadata": {},
   "source": [
    "**2-3:** Given a word, provided below, use a comprehension to make a list of all strings that can be formed by deleting exactly one character from the word.\n",
    "\n",
    "`word = \"Welcomed\"`"
   ]
  },
  {
   "cell_type": "code",
   "execution_count": 6,
   "metadata": {
    "collapsed": false
   },
   "outputs": [
    {
     "name": "stdout",
     "output_type": "stream",
     "text": [
      "Enter a word: slow\n",
      "['low', 'sow', 'slw', 'slo']\n"
     ]
    }
   ],
   "source": [
    "# Enter your code here\n",
    "#Sample Output below"
   ]
  },
  {
   "cell_type": "markdown",
   "metadata": {},
   "source": [
    "# 3 - Nested functions\n",
    "\n",
    "**3-1:** Write a function `is_consonant` that takes a character and returns `True` if it is a consonant."
   ]
  },
  {
   "cell_type": "code",
   "execution_count": 6,
   "metadata": {
    "collapsed": false
   },
   "outputs": [
    {
     "name": "stdout",
     "output_type": "stream",
     "text": [
      "(\"is 'a' a constanct?\", False)\n",
      "(\"is 'b' a constanct?\", True)\n"
     ]
    }
   ],
   "source": [
    "def is_constant(char):\n",
    "    # Enter your code here\n",
    "\n",
    "\n",
    "print(\"is 'a' a constanct?\",is_constant(\"a\"))\n",
    "print(\"is 'b' a constanct?\",is_constant(\"b\"))\n",
    "#Sample Output below"
   ]
  },
  {
   "cell_type": "markdown",
   "metadata": {},
   "source": [
    "**3-2:** Use your function to create a new fuction `to_piglatin` that takes a word, moves all starting consonants to the end of the word, then adds *ay* to the end and returns the result. You may expect that the the input will be just one word.\n",
    "\n",
    "*(Optional): Have this function check whether or not the input is multiple words and return the whole sentence in pig latin. For this you may assume that a sentence always ends with a period and is always one sentence, never more than one.*"
   ]
  },
  {
   "cell_type": "code",
   "execution_count": 9,
   "metadata": {
    "collapsed": false
   },
   "outputs": [
    {
     "name": "stdout",
     "output_type": "stream",
     "text": [
      "('Anthony', 'The starting letter is not a consonant.')\n",
      "('Paul', 'aulpay')\n"
     ]
    }
   ],
   "source": [
    "def to_piglatin(word):\n",
    "    # Enter your code here\n",
    "\n",
    "    print('Anthony',(to_piglatin('Anthony')))\n",
    "print('Paul',(to_piglatin('Paul')))\n",
    "#Sample Output below"
   ]
  },
  {
   "cell_type": "markdown",
   "metadata": {},
   "source": [
    "# 4 - Namespace Exercises\n",
    "\n",
    "**4-1:** The following script defines a list of customer orders.  Each item in the list is a tuple containing the name of the item, the number requested, and the price per item.\n",
    "\n",
    "Fill in just the `process_order` function below without changing any other code. This function should remove one of the elements of the order list and print a nice message about it. Finally, make sure that the final print statement correctly displays the total price for the entire list."
   ]
  },
  {
   "cell_type": "code",
   "execution_count": 21,
   "metadata": {
    "collapsed": false
   },
   "outputs": [
    {
     "name": "stdout",
     "output_type": "stream",
     "text": [
      "Thank you for your purchase of oranges.\n",
      "Thank you for your purchase of sour bites.\n",
      "Thank you for your purchase of gummy bears.\n",
      "Thank you for your purchase of antacid.\n",
      "total price:  27.189999999999998\n"
     ]
    }
   ],
   "source": [
    "total = 0\n",
    "def process_order(x_list):\n",
    "    # Enter your code here\n",
    "\n",
    "    #Sample Output below\n",
    "\n",
    "x = [(\"oranges\", 4, 3.22),(\"gummy bears\",1,1.99),(\"sour bites\", 3, 2.33), (\"antacid\", 1, 5.33)]\n",
    "\n",
    "while(len(x)>0):\n",
    "    process_order(x)\n",
    "print(\"total price: \", total)"
   ]
  },
  {
   "cell_type": "markdown",
   "metadata": {
    "collapsed": true
   },
   "source": [
    "# 5 - Exceptions Exercise\n",
    "\n",
    "Refactor (modify) this code, which attempts to compute a reciprocal, so that it keeps prompting the user for a number repeatedly until the user successfully enters a valid input.  If the user enters 0, the program should print that zero does not have a reciprocal, then terminate.\n",
    "\n",
    "\"Refactor\" is a computer programming term that means to change or restructure code.\n",
    "\n",
    "The \"reciprocal\" of a fraction is obtained by interchanging the numerator and the denominator, i.e. by inverting the fraction. The reciprocal of \"x\" is \"1/x\".\n"
   ]
  },
  {
   "cell_type": "code",
   "execution_count": null,
   "metadata": {
    "collapsed": false
   },
   "outputs": [],
   "source": [
    "#terminates if user enters 0 or if user enters valid input\n",
    "while True:\n",
    "    try:\n",
    "        x = float(input(\"Enter a number: \"))\n",
    "        print(\"The reciprocal of your number is\", 1/x)\n",
    "        break\n",
    "    except ZeroDivisionError:\n",
    "        print (\"Zero does not have a reciprocal.\")\n",
    "        break\n",
    "    except:\n",
    "        print (\"You did not enter a valid number.\")\n",
    "        pass"
   ]
  },
  {
   "cell_type": "markdown",
   "metadata": {},
   "source": [
    "# 6 - Bisection Search\n",
    "\n",
    "**6-1:** The bisection code below finds the square root of a number. Try inputting 16 into the code to confirm it works. Next, try inputting 0.25 into the bisection search algorithm below and confirm that it doesn't work. Then correct the algorithm so that it works for all positive numbers, including decimals such as 0.25."
   ]
  },
  {
   "cell_type": "code",
   "execution_count": 23,
   "metadata": {
    "collapsed": false
   },
   "outputs": [
    {
     "name": "stdout",
     "output_type": "stream",
     "text": [
      "enter a number:.25\n",
      "('low =', 0.0, 'high =', 0.25)\n",
      "('number of guesses =', 1)\n",
      "(0.125, 'is close to square root of', 0.25)\n"
     ]
    }
   ],
   "source": [
    "## Bisection Search to Find a Square Root\n",
    "\n",
    "x = float(input(\"enter a number:\"))\n",
    "epsilon = 0.00001\n",
    "num_guesses = 0\n",
    "low = 0.0\n",
    "\n",
    "high = x\n",
    "ans = (high + low)/2.0\n",
    "print(\"low =\",low,\"high =\", high)\n",
    "num_guesses += 1\n",
    "if ans ** 2 < x:\n",
    "    low = ans\n",
    "else:\n",
    "    high = ans\n",
    "    ans = (high + low)/2.0\n",
    "\n",
    "print('number of guesses =', num_guesses)\n",
    "print(ans, 'is close to square root of', x)\n",
    "\n",
    "# the square root of a fraction is less than the fraction, so if input is less than 1 calculate the square root of the denominator and then take the inverse\n",
    "# use a for loop for x >+ 1, for x < 1\n",
    "\n"
   ]
  },
  {
   "cell_type": "markdown",
   "metadata": {},
   "source": [
    "**6-2:** In your own words, why does the bisection search algorthm for finding square roots work faster on large numbers than the brute force algorithm? Write your answer below."
   ]
  },
  {
   "cell_type": "markdown",
   "metadata": {},
   "source": [
    "Using a brute force algorithm will cause the code to scan the entire domain from 0 to x in very small increments so larger and larger numbers have exponentially bigger domains, taking more time to compute. Through bisection search algorithm, by finding the midway point between 0 and x and then checking to see if that midway point squared is larger than x, we take out half of the domain search. This is continuously iterated until midway point squared is as close to the answer as possible. This takes less time to compute as the range of domain is far less so the algorithm works faster."
   ]
  },
  {
   "cell_type": "markdown",
   "metadata": {},
   "source": [
    "**6-3:** In your own words, why does Newton's method for finding square roots outperform both the brute force and the bisection search algorithms? Write your answer below.\n"
   ]
  },
  {
   "cell_type": "markdown",
   "metadata": {},
   "source": [
    "In order to find the root of the function, Newton's method reduces the amount of domain search. While brute force takes all the domain and goes through each very small increment and while bisection search removes half of the domain by finding the midpoint, Newton's method takes away even more of the domain by finding the x-axis value in which the tangent line of the y-value for our first guess. Because the line is actually a parabola and not a straight line, the tangent line will cross the x-axis further from the midpoint that is between our first guess and the actual answer. "
   ]
  },
  {
   "cell_type": "markdown",
   "metadata": {},
   "source": [
    "# Challenge Question - Chess board exercise "
   ]
  },
  {
   "cell_type": "markdown",
   "metadata": {},
   "source": [
    "You place a pawn at the top left corner of an n-by-n chess board, labeled (0,0).  For each move, you have a choice: move the pawn down a single space, or move the pawn down one space and right one space.  That is, if the pawn is at position (i,j), you can move the pawn to (i+1,j) or (i+1, j+1).\n",
    "\n",
    "Ask the user for the size of a chessboard, n.  Find the number of different paths the pawn could take to reach each position on the chess board.  For example, there are two different paths the pawn can take to reach (2,1): \n",
    "\n",
    "* (0,0) -> (1,0) -> (2,1)\n",
    "* (0,0) -> (1,1) -> (2,1)\n",
    "\n",
    "print the board with the number of ways to reach each square labeled as shown below.\n",
    "\n",
    "Enter a size: 3\n",
    "```\n",
    "1 0 0\n",
    "1 1 0\n",
    "1 2 1\n",
    "```\n",
    "\n",
    "Below is the code to take in a board size input. Build your code from here."
   ]
  },
  {
   "cell_type": "code",
   "execution_count": null,
   "metadata": {
    "collapsed": true
   },
   "outputs": [],
   "source": [
    "n = int(input(\"Enter a board size: \"))\n",
    "# Enter your code here\n",
    "#Sample Output above"
   ]
  }
 ],
 "metadata": {
  "kernelspec": {
   "display_name": "Python 2",
   "language": "python",
   "name": "python2"
  },
  "language_info": {
   "codemirror_mode": {
    "name": "ipython",
    "version": 2
   },
   "file_extension": ".py",
   "mimetype": "text/x-python",
   "name": "python",
   "nbconvert_exporter": "python",
   "pygments_lexer": "ipython2",
   "version": "2.7.11"
  },
  "name": "_merged"
 },
 "nbformat": 4,
 "nbformat_minor": 0
}
